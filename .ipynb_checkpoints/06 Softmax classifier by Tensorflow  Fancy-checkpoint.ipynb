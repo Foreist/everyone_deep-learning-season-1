{
 "cells": [
  {
   "cell_type": "markdown",
   "metadata": {},
   "source": [
    "# one_hot + softmax_cross_entropy_with_logts"
   ]
  },
  {
   "cell_type": "code",
   "execution_count": 25,
   "metadata": {},
   "outputs": [
    {
     "name": "stdout",
     "output_type": "stream",
     "text": [
      "(8, 4) (8, 1)\n"
     ]
    }
   ],
   "source": [
    "import tensorflow as tf\n",
    "import numpy as np\n",
    "\n",
    "tf.set_random_seed(777)\n",
    "\n",
    "x_data = np.array([[1, 2, 1, 1],\n",
    "          [2, 1, 3, 2],\n",
    "          [3, 1, 3, 4],\n",
    "          [4, 1, 5, 5],\n",
    "          [1, 7, 5, 5],\n",
    "          [1, 2, 5, 6],\n",
    "          [1, 6, 6, 6],\n",
    "          [1, 7, 7, 7]])\n",
    "\n",
    "y_data = np.array([[2],\n",
    "          [2],\n",
    "          [2],\n",
    "          [1],\n",
    "          [1],\n",
    "          [1],\n",
    "          [0],\n",
    "          [0]])\n",
    "\n",
    "print(x_data.shape, y_data.shape)"
   ]
  },
  {
   "cell_type": "code",
   "execution_count": 53,
   "metadata": {},
   "outputs": [
    {
     "name": "stdout",
     "output_type": "stream",
     "text": [
      "one_hot: Tensor(\"one_hot_12:0\", shape=(?, 1, 3), dtype=float32)\n",
      "reshape one_hot: Tensor(\"Reshape_7:0\", shape=(?, 3), dtype=float32)\n",
      "Step: 0,\tCost:8.464\tAcc: 0.38\n",
      "Step: 100,\tCost:0.548\tAcc: 0.62\n",
      "Step: 200,\tCost:0.495\tAcc: 0.62\n",
      "Step: 300,\tCost:0.453\tAcc: 0.75\n",
      "Step: 400,\tCost:0.415\tAcc: 0.75\n",
      "Step: 500,\tCost:0.379\tAcc: 0.75\n",
      "Step: 600,\tCost:0.344\tAcc: 0.88\n",
      "Step: 700,\tCost:0.309\tAcc: 0.88\n",
      "Step: 800,\tCost:0.274\tAcc: 1.00\n",
      "Step: 900,\tCost:0.241\tAcc: 1.00\n",
      "Step: 1000,\tCost:0.227\tAcc: 1.00\n",
      "Step: 1100,\tCost:0.216\tAcc: 1.00\n",
      "Step: 1200,\tCost:0.206\tAcc: 1.00\n",
      "Step: 1300,\tCost:0.197\tAcc: 1.00\n",
      "Step: 1400,\tCost:0.189\tAcc: 1.00\n",
      "Step: 1500,\tCost:0.181\tAcc: 1.00\n",
      "Step: 1600,\tCost:0.174\tAcc: 1.00\n",
      "Step: 1700,\tCost:0.168\tAcc: 1.00\n",
      "Step: 1800,\tCost:0.162\tAcc: 1.00\n",
      "Step: 1900,\tCost:0.156\tAcc: 1.00\n",
      "Step: 2000,\tCost:0.151\tAcc: 1.00\n",
      "[[ True]] Prediction: 2 True Y: [2]\n",
      "[[ True]] Prediction: 2 True Y: [2]\n",
      "[[ True]] Prediction: 2 True Y: [2]\n",
      "[[ True]] Prediction: 1 True Y: [1]\n",
      "[[ True]] Prediction: 1 True Y: [1]\n",
      "[[ True]] Prediction: 1 True Y: [1]\n",
      "[[ True]] Prediction: 0 True Y: [0]\n",
      "[[ True]] Prediction: 0 True Y: [0]\n"
     ]
    }
   ],
   "source": [
    "# X, Y 만들어줌\n",
    "X = tf.placeholder(tf.float32, [None, 4])\n",
    "Y = tf.placeholder(tf.int32, [None, 1])\n",
    "\n",
    "# Y의 카테고리 갯수\n",
    "nb_classes = 3 # 1, 2, 3\n",
    "\n",
    "# Y를 카테고리 갯수에 맞게 one_hot\n",
    "Y_one_hot = tf.one_hot(Y, nb_classes) \n",
    "\n",
    "# one hot (8, 1) -> (8, 1, 3)\n",
    "'''\n",
    "no one hot\n",
    "[[0],\n",
    " [1]]\n",
    "one hot\n",
    "[[[1, 0], \n",
    "  [0, 1]]]\n",
    "'''\n",
    "\n",
    "print(\"one_hot:\", Y_one_hot)\n",
    "Y_one_hot = tf.reshape(Y_one_hot, [-1, nb_classes])\n",
    "print(\"reshape one_hot:\", Y_one_hot)\n",
    "\n",
    "\n",
    "W = tf.Variable(tf.random_normal([4, nb_classes]), name = 'weight')\n",
    "b = tf.Variable(tf.random_normal([nb_classes]), name = 'bias')\n",
    "\n",
    "logits = tf.matmul(X, W) + b\n",
    "hypothesis = tf.nn.softmax(logits)\n",
    "\n",
    "cost = tf.reduce_mean(tf.nn.softmax_cross_entropy_with_logits_v2(logits = logits,\n",
    "                                                  labels = tf.stop_gradient([Y_one_hot])))\n",
    "optimizer = tf.train.GradientDescentOptimizer(learning_rate = 0.1).minimize(cost)\n",
    "\n",
    "prediction = tf.argmax(hypothesis, 1)\n",
    "# argmax(axis =1 중 가장 큰 값을 찾기)\n",
    "correct_prediction = tf.equal(prediction, tf.argmax(Y_one_hot, 1))\n",
    "accuracy = tf.reduce_mean(tf.cast(correct_prediction, tf.float32))\n",
    "\n",
    "with tf.Session() as sess:\n",
    "    sess.run(tf.global_variables_initializer())\n",
    "    \n",
    "    for step in range(2001):\n",
    "        _, cost_val, acc_val = sess.run([optimizer, cost, accuracy],\n",
    "                                       feed_dict = {X: x_data, Y: y_data})\n",
    "        if step % 100 == 0:\n",
    "            print('Step: {},\\tCost:{:.3f}\\tAcc: {:.2f}'.format(step, cost_val, acc_val))\n",
    "    pred = sess.run(prediction, feed_dict = {X: x_data})\n",
    "    \n",
    "    for p, y in zip(pred, y_data):\n",
    "        print('[{}] Prediction: {} True Y: {}'.format(p == y, p, y))"
   ]
  },
  {
   "cell_type": "code",
   "execution_count": 56,
   "metadata": {},
   "outputs": [
    {
     "ename": "TypeError",
     "evalue": "only size-1 arrays can be converted to Python scalars",
     "output_type": "error",
     "traceback": [
      "\u001b[1;31m---------------------------------------------------------------------------\u001b[0m",
      "\u001b[1;31mTypeError\u001b[0m                                 Traceback (most recent call last)",
      "\u001b[1;32m<ipython-input-56-c9022ec20043>\u001b[0m in \u001b[0;36m<module>\u001b[1;34m()\u001b[0m\n\u001b[1;32m----> 1\u001b[1;33m \u001b[0mint\u001b[0m\u001b[1;33m(\u001b[0m\u001b[0mnp\u001b[0m\u001b[1;33m.\u001b[0m\u001b[0marray\u001b[0m\u001b[1;33m(\u001b[0m\u001b[1;33m[\u001b[0m\u001b[1;36m1\u001b[0m\u001b[1;33m,\u001b[0m \u001b[1;36m0\u001b[0m\u001b[1;33m]\u001b[0m\u001b[1;33m)\u001b[0m\u001b[1;33m)\u001b[0m\u001b[1;33m\u001b[0m\u001b[0m\n\u001b[0m",
      "\u001b[1;31mTypeError\u001b[0m: only size-1 arrays can be converted to Python scalars"
     ]
    }
   ],
   "source": [
    "int(np.array([1, 0]))"
   ]
  },
  {
   "cell_type": "code",
   "execution_count": null,
   "metadata": {},
   "outputs": [],
   "source": []
  }
 ],
 "metadata": {
  "kernelspec": {
   "display_name": "Python 3",
   "language": "python",
   "name": "python3"
  },
  "language_info": {
   "codemirror_mode": {
    "name": "ipython",
    "version": 3
   },
   "file_extension": ".py",
   "mimetype": "text/x-python",
   "name": "python",
   "nbconvert_exporter": "python",
   "pygments_lexer": "ipython3",
   "version": "3.7.0"
  }
 },
 "nbformat": 4,
 "nbformat_minor": 2
}
