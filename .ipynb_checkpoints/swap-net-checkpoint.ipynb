{
 "cells": [
  {
   "cell_type": "markdown",
   "metadata": {},
   "source": [
    "## Swap-net"
   ]
  },
  {
   "cell_type": "markdown",
   "metadata": {},
   "source": [
    "2018 ACL 정리 PPT(NLP 최고 학회인듯)\n",
    "\n",
    "https://www.slideshare.net/NaverEngineering/acl-2018-recap"
   ]
  },
  {
   "cell_type": "markdown",
   "metadata": {},
   "source": [
    "Association for Computational Linguistics(전산언어학협회)에서 2018년 논문에 언급된 기술인듯 \n",
    "https://acl2018.org/programme/papers/"
   ]
  },
  {
   "cell_type": "markdown",
   "metadata": {},
   "source": [
    "Textsum code: 문서에서 중요한 정보를 추출하여 요약 된 버전을 생성하는 작업\n",
    "    https://paperswithcode.com/task/text-summarization/latest"
   ]
  },
  {
   "cell_type": "markdown",
   "metadata": {},
   "source": [
    "pointer-generator: attentional seq2seq RNN model, pointernetwork의 중간에 있는 hybridnetwork, 요약 단계에서 기존 텍스트 본문에서의 단어들을 (1-Pgen)으로 인용하거나 새로운 단어를 Pgen 확률로 생성할 수 있다.\n",
    "Pgen이 0이면 기존 단어에서 문서요약이 수행되고 Pgen이 1에 가까우면 새로운 단어들을 생성해서 문서를 요약해주는 듯\n",
    "(Pgen이 높을수록 모델이 잘 알고 있는 단어들로 구성된 문서일 확률이 높나보다)\n",
    "https://brunch.co.kr/@kakao-it/139"
   ]
  },
  {
   "cell_type": "code",
   "execution_count": null,
   "metadata": {},
   "outputs": [],
   "source": [
    "## swap-net이라는 모델을 담고 있는 깃허브고 텍스트 요약이라는 코드랑 b\n",
    "texsum이랑 포인터생성기를 기반으로 하고\n",
    "파라미터 세팅은 디폴트값을 저렇게 지정해놓은 것 같은데 \n",
    "예제 데이터셋은 \n",
    "\n"
   ]
  },
  {
   "cell_type": "markdown",
   "metadata": {},
   "source": [
    "## Preprocessing"
   ]
  },
  {
   "cell_type": "markdown",
   "metadata": {},
   "source": [
    "- RAKE Algoritihm\n",
    "https://pongdangstory.tistory.com/368"
   ]
  },
  {
   "cell_type": "markdown",
   "metadata": {},
   "source": [
    "일단 쓰려면 돌릴 문장을 전처리를 해야하나 보다.\n",
    "text에 포함된 수많은 단어 중 분석에 있어 '유의미'한 단어들로 줄여야 함.\n",
    "### 1. 키워드 후보군을 고른다.\n",
    "(고려하는 것\n",
    "- 문자열의 개수\n",
    "- 어구의 포함되는 단어들의 최대 개수\n",
    "- 전체 문서에서 몇 번 등장하는지)\n",
    "\n",
    "\n",
    "###  2. 1에서 추출한 후보 단어들 중 동시 출현 단어(Co-ocurrences of words)들을 중요한 의미를 가지는 단어들로 본다.\n"
   ]
  },
  {
   "cell_type": "code",
   "execution_count": 8,
   "metadata": {},
   "outputs": [
    {
     "data": {
      "text/plain": [
       "'C:\\\\Users\\\\dxodn\\\\Desktop\\\\Github\\\\Dummy\\\\Python\\\\tensorflow_deep_learning'"
      ]
     },
     "execution_count": 8,
     "metadata": {},
     "output_type": "execute_result"
    }
   ],
   "source": [
    "%pwd"
   ]
  }
 ],
 "metadata": {
  "kernelspec": {
   "display_name": "Python 3",
   "language": "python",
   "name": "python3"
  },
  "language_info": {
   "codemirror_mode": {
    "name": "ipython",
    "version": 3
   },
   "file_extension": ".py",
   "mimetype": "text/x-python",
   "name": "python",
   "nbconvert_exporter": "python",
   "pygments_lexer": "ipython3",
   "version": "3.7.0"
  }
 },
 "nbformat": 4,
 "nbformat_minor": 2
}
