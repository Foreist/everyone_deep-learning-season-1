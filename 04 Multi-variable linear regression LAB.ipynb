{
 "cells": [
  {
   "cell_type": "code",
   "execution_count": 1,
   "metadata": {},
   "outputs": [],
   "source": [
    "import tensorflow as tf"
   ]
  },
  {
   "cell_type": "code",
   "execution_count": 3,
   "metadata": {},
   "outputs": [
    {
     "name": "stdout",
     "output_type": "stream",
     "text": [
      "0 | 5793889.5000\n",
      "50 | 64291.1484\n",
      "100 | 715.2902\n",
      "150 | 9.8462\n",
      "200 | 2.0152\n",
      "250 | 1.9252\n",
      "300 | 1.9210\n",
      "350 | 1.9177\n",
      "400 | 1.9145\n",
      "450 | 1.9114\n",
      "500 | 1.9081\n",
      "550 | 1.9050\n",
      "600 | 1.9018\n",
      "650 | 1.8986\n",
      "700 | 1.8955\n",
      "750 | 1.8923\n",
      "800 | 1.8892\n",
      "850 | 1.8861\n",
      "900 | 1.8829\n",
      "950 | 1.8798\n",
      "1000 | 1.8767\n"
     ]
    }
   ],
   "source": [
    "# matrix로 표현하지 않은 hypothesis\n",
    "tf.enable_eager_execution()\n",
    "# data and label\n",
    "x1 = [ 73.,   93.,   89.,   96.,  73.]\n",
    "x2 = [ 80.,   88.,   91.,   98.,  66.]\n",
    "x3 = [ 75.,   93.,  90.,  100.,  70.]\n",
    "Y  = [152., 185., 180., 196., 142]\n",
    "\n",
    "# weights\n",
    "w1 = tf.Variable(10.)\n",
    "w2 = tf.Variable(10.)\n",
    "w3 = tf.Variable(10.)\n",
    "b = tf.Variable(10.)\n",
    "\n",
    "learning_rate = 0.000001\n",
    "\n",
    "for i in range(1000+1):\n",
    "    with tf.GradientTape() as tape:\n",
    "        hypothesis = x1 * w1 + x2 * w2 + x3 * w3 + b\n",
    "        cost = tf.reduce_mean(tf.square(hypothesis - Y))\n",
    "    w1_grad, w2_grad, w3_grad, b_grad = tape.gradient(cost, [w1, w2, w3, b])\n",
    "    \n",
    "    w1.assign_sub(learning_rate * w1_grad)\n",
    "    w2.assign_sub(learning_rate * w2_grad)\n",
    "    w3.assign_sub(learning_rate * w3_grad)\n",
    "    b.assign_sub(learning_rate * b_grad)\n",
    "    \n",
    "    if i % 50 == 0:\n",
    "        print('{} | {:.4f}'.format(i, cost.numpy()))"
   ]
  },
  {
   "cell_type": "code",
   "execution_count": 4,
   "metadata": {},
   "outputs": [],
   "source": [
    "import pandas as pd"
   ]
  },
  {
   "cell_type": "code",
   "execution_count": 27,
   "metadata": {},
   "outputs": [
    {
     "data": {
      "text/plain": [
       "array([[ 73.,  80.,  75., 152.],\n",
       "       [ 93.,  88.,  93., 185.],\n",
       "       [ 89.,  91.,  90., 180.],\n",
       "       [ 96.,  98., 100., 196.],\n",
       "       [ 73.,  66.,  70., 142.]])"
      ]
     },
     "execution_count": 27,
     "metadata": {},
     "output_type": "execute_result"
    }
   ],
   "source": [
    "x1 =  [ 73.,   93.,   89.,   96.,  73.]\n",
    "x2 = [ 80.,   88.,   91.,   98.,  66.]\n",
    "x3 = [ 75.,   93.,  90.,  100.,  70.]\n",
    "Y  = [152., 185., 180., 196., 142]\n",
    "a = pd.DataFrame([x1, x2, x3, Y])\n",
    "X = pd.concat([a])\n",
    "data = X.values.T; data"
   ]
  },
  {
   "cell_type": "code",
   "execution_count": 29,
   "metadata": {},
   "outputs": [
    {
     "data": {
      "text/plain": [
       "array([[152.],\n",
       "       [185.],\n",
       "       [180.],\n",
       "       [196.],\n",
       "       [142.]])"
      ]
     },
     "execution_count": 29,
     "metadata": {},
     "output_type": "execute_result"
    }
   ],
   "source": [
    "y = data[:, -1:]; y"
   ]
  },
  {
   "cell_type": "code",
   "execution_count": 32,
   "metadata": {},
   "outputs": [
    {
     "data": {
      "text/plain": [
       "<tf.Variable 'Variable:0' shape=(3, 1) dtype=float32, numpy=\n",
       "array([[-0.88102907],\n",
       "       [-0.355364  ],\n",
       "       [ 1.3000476 ]], dtype=float32)>"
      ]
     },
     "execution_count": 32,
     "metadata": {},
     "output_type": "execute_result"
    }
   ],
   "source": [
    "W = tf.Variable(tf.random_normal([3, 1]));W"
   ]
  },
  {
   "cell_type": "code",
   "execution_count": 35,
   "metadata": {},
   "outputs": [],
   "source": [
    "import numpy as np"
   ]
  },
  {
   "cell_type": "code",
   "execution_count": 52,
   "metadata": {},
   "outputs": [
    {
     "name": "stdout",
     "output_type": "stream",
     "text": [
      "0 | 103521.2891\n",
      "50 | 10.9082\n",
      "100 | 0.6001\n",
      "150 | 0.5987\n",
      "200 | 0.5983\n",
      "250 | 0.5980\n",
      "300 | 0.5976\n",
      "350 | 0.5972\n",
      "400 | 0.5969\n",
      "450 | 0.5965\n",
      "500 | 0.5961\n",
      "550 | 0.5957\n",
      "600 | 0.5954\n",
      "650 | 0.5950\n",
      "700 | 0.5946\n",
      "750 | 0.5943\n",
      "800 | 0.5939\n",
      "850 | 0.5936\n",
      "900 | 0.5932\n",
      "950 | 0.5928\n",
      "1000 | 0.5925\n"
     ]
    }
   ],
   "source": [
    "# matrix로 표현한 hypothesis\n",
    "tf.enable_eager_execution()\n",
    "# data and label\n",
    "data= tf.Variable([[ 73.,  80.,  75., 152.],\n",
    "       [ 93.,  88.,  93., 185.],\n",
    "       [ 89.,  91.,  90., 180.],\n",
    "       [ 96.,  98., 100., 196.],\n",
    "       [ 73.,  66.,  70., 142.]])\n",
    "X = data[:, :-1]\n",
    "y = data[:, -1:]\n",
    "\n",
    "# weights\n",
    "W = tf.Variable(tf.random_normal([3, 1]))\n",
    "b = tf.Variable(tf.random_normal([1]))\n",
    "\n",
    "learning_rate = 0.000001\n",
    "\n",
    "for i in range(1000+1):\n",
    "    with tf.GradientTape() as tape:\n",
    "        hypothesis = tf.matmul(X, W) + b\n",
    "        cost = tf.reduce_mean(tf.square(hypothesis - y))\n",
    "    W_grad, b_grad = tape.gradient(cost, [W, b])\n",
    "    \n",
    "    W.assign_sub(learning_rate * W_grad)\n",
    "    b.assign_sub(learning_rate * b_grad)\n",
    "    \n",
    "    if i % 50 == 0:\n",
    "        print('{} | {:.4f}'.format(i, cost.numpy()))"
   ]
  }
 ],
 "metadata": {
  "kernelspec": {
   "display_name": "Python 3",
   "language": "python",
   "name": "python3"
  },
  "language_info": {
   "codemirror_mode": {
    "name": "ipython",
    "version": 3
   },
   "file_extension": ".py",
   "mimetype": "text/x-python",
   "name": "python",
   "nbconvert_exporter": "python",
   "pygments_lexer": "ipython3",
   "version": "3.7.0"
  }
 },
 "nbformat": 4,
 "nbformat_minor": 2
}
